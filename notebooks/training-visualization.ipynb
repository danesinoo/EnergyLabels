{
 "cells": [
  {
   "cell_type": "code",
   "execution_count": 1,
   "id": "22c5369c",
   "metadata": {},
   "outputs": [],
   "source": [
    "import wandb"
   ]
  },
  {
   "cell_type": "code",
   "execution_count": 2,
   "id": "8b8e9f63",
   "metadata": {},
   "outputs": [],
   "source": [
    "import pandas as pd\n",
    "import ipywidgets as widgets\n",
    "from IPython.display import display\n",
    "\n",
    "class WandBOfflineVisualizer:\n",
    "    def __init__(self, run_data):\n",
    "        \"\"\"\n",
    "        Initialize with WandB offline run data.\n",
    "        \n",
    "        Args:\n",
    "            run_data (list of dict): List of dictionaries containing your run metrics\n",
    "        \"\"\"\n",
    "        self.run_data = run_data\n",
    "        self.df = pd.DataFrame(run_data)\n",
    "        self._setup_ui()\n",
    "        \n",
    "    def _setup_ui(self):\n",
    "        \"\"\"Create the interactive UI components.\"\"\"\n",
    "        # Create filter widgets\n",
    "        self.column_select = widgets.SelectMultiple(\n",
    "            options=list(self.df.columns),\n",
    "            value=list(self.df.columns),\n",
    "            description='Columns',\n",
    "            disabled=False\n",
    "        )\n",
    "        \n",
    "        self.min_epoch = widgets.IntSlider(\n",
    "            value=min(self.df['epoch']),\n",
    "            min=min(self.df['epoch']),\n",
    "            max=max(self.df['epoch']),\n",
    "            description='Min Epoch'\n",
    "        )\n",
    "        \n",
    "        self.max_epoch = widgets.IntSlider(\n",
    "            value=max(self.df['epoch']),\n",
    "            min=min(self.df['epoch']),\n",
    "            max=max(self.df['epoch']),\n",
    "            description='Max Epoch'\n",
    "        )\n",
    "        \n",
    "        # Create interactive output\n",
    "        self.output = widgets.Output()\n",
    "        \n",
    "        # Set up observers\n",
    "        self.column_select.observe(self._update_display, names='value')\n",
    "        self.min_epoch.observe(self._update_display, names='value')\n",
    "        self.max_epoch.observe(self._update_display, names='value')\n",
    "        \n",
    "        # Initial display\n",
    "        self._update_display()\n",
    "        \n",
    "    def _update_display(self, change=None):\n",
    "        \"\"\"Update the displayed table based on current filters.\"\"\"\n",
    "        filtered_df = self.df[\n",
    "            (self.df['epoch'] >= self.min_epoch.value) & \n",
    "            (self.df['epoch'] <= self.max_epoch.value)\n",
    "        ][list(self.column_select.value)]\n",
    "        \n",
    "        with self.output:\n",
    "            self.output.clear_output(wait=True)\n",
    "            display(filtered_df.style.format({\n",
    "                'Train Loss': '{:.4f}',\n",
    "                'Train Score': '{:.4f}',\n",
    "                'Eval Score': '{:.4f}'\n",
    "            }).set_caption(\"Training Metrics Over Epochs\"))\n",
    "    \n",
    "    def show(self):\n",
    "        \"\"\"Display the full interface.\"\"\"\n",
    "        display(widgets.VBox([\n",
    "            widgets.HBox([self.column_select]),\n",
    "            widgets.HBox([self.min_epoch, self.max_epoch]),\n",
    "            self.output\n",
    "        ]))\n",
    "        \n",
    "    def plot_metrics(self):\n",
    "        \"\"\"Create simple line plots of the metrics over epochs.\"\"\"\n",
    "        import matplotlib.pyplot as plt\n",
    "        \n",
    "        plt.figure(figsize=(12, 6))\n",
    "        \n",
    "        # Plot Train Loss if available\n",
    "        if 'Train Loss' in self.df.columns:\n",
    "            plt.plot(self.df['epoch'], self.df['Train Loss'], label='Train Loss')\n",
    "        \n",
    "        # Plot Scores if available\n",
    "        if 'Train Score' in self.df.columns:\n",
    "            plt.plot(self.df['epoch'], self.df['Train Score'], label='Train Score')\n",
    "        \n",
    "        if 'Eval Score' in self.df.columns:\n",
    "            plt.plot(self.df['epoch'], self.df['Eval Score'], label='Eval Score')\n",
    "        \n",
    "        plt.xlabel('Epoch')\n",
    "        plt.ylabel('Metric Value')\n",
    "        plt.title('Training Metrics Over Epochs')\n",
    "        plt.legend()\n",
    "        plt.grid(True)\n",
    "        plt.show()"
   ]
  },
  {
   "cell_type": "code",
   "execution_count": null,
   "id": "c49b153b",
   "metadata": {},
   "outputs": [
    {
     "data": {
      "text/html": [
       "Finishing previous runs because reinit is set to 'default'."
      ],
      "text/plain": [
       "<IPython.core.display.HTML object>"
      ]
     },
     "metadata": {},
     "output_type": "display_data"
    },
    {
     "data": {
      "text/html": [],
      "text/plain": [
       "<IPython.core.display.HTML object>"
      ]
     },
     "metadata": {},
     "output_type": "display_data"
    },
    {
     "data": {
      "text/html": [
       "You can sync this run to the cloud by running:<br><code>wandb sync /Users/carlorosso/Documents/EnergyLabels/notebooks/wandb/offline-run-20250728_162545-4oso892j<code>"
      ],
      "text/plain": [
       "<IPython.core.display.HTML object>"
      ]
     },
     "metadata": {},
     "output_type": "display_data"
    },
    {
     "data": {
      "text/html": [
       "Find logs at: <code>./wandb/offline-run-20250728_162545-4oso892j/logs</code>"
      ],
      "text/plain": [
       "<IPython.core.display.HTML object>"
      ]
     },
     "metadata": {},
     "output_type": "display_data"
    },
    {
     "data": {
      "text/html": [
       "Tracking run with wandb version 0.21.0"
      ],
      "text/plain": [
       "<IPython.core.display.HTML object>"
      ]
     },
     "metadata": {},
     "output_type": "display_data"
    },
    {
     "data": {
      "text/html": [
       "W&B syncing is set to <code>`offline`<code> in this directory. Run <code>`wandb online`<code> or set <code>WANDB_MODE=online<code> to enable cloud syncing."
      ],
      "text/plain": [
       "<IPython.core.display.HTML object>"
      ]
     },
     "metadata": {},
     "output_type": "display_data"
    },
    {
     "name": "stderr",
     "output_type": "stream",
     "text": [
      "/Users/carlorosso/Documents/EnergyLabels/.venv/lib/python3.13/site-packages/IPython/core/display.py:447: UserWarning: Consider using IPython.display.IFrame instead\n",
      "  warnings.warn(\"Consider using IPython.display.IFrame instead\")\n"
     ]
    },
    {
     "data": {
      "text/html": [
       "<iframe src='?jupyter=true' style='border:none;width:100%;height:420px;'></iframe>"
      ],
      "text/plain": [
       "<IPython.core.display.HTML object>"
      ]
     },
     "metadata": {},
     "output_type": "display_data"
    }
   ],
   "source": [
    "import wandb\n",
    "\n",
    "# Initialize or resume the current run (if not already done)\n",
    "run = wandb.init(mode=\"offline\", project=\"binary-classifier\")\n",
    "\n",
    "# Get all logged metrics as a pandas DataFrame\n",
    "history = run."
   ]
  },
  {
   "cell_type": "code",
   "execution_count": null,
   "id": "0ee4360d",
   "metadata": {},
   "outputs": [],
   "source": []
  }
 ],
 "metadata": {
  "kernelspec": {
   "display_name": "energylabels",
   "language": "python",
   "name": "python3"
  },
  "language_info": {
   "codemirror_mode": {
    "name": "ipython",
    "version": 3
   },
   "file_extension": ".py",
   "mimetype": "text/x-python",
   "name": "python",
   "nbconvert_exporter": "python",
   "pygments_lexer": "ipython3",
   "version": "3.13.2"
  }
 },
 "nbformat": 4,
 "nbformat_minor": 5
}
